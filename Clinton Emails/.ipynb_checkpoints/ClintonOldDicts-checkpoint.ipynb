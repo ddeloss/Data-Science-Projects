{
 "cells": [
  {
   "cell_type": "markdown",
   "metadata": {},
   "source": [
    "Exploration of the Clinton emails released via Kaggle\n",
    "================="
   ]
  },
  {
   "cell_type": "code",
   "execution_count": 3,
   "metadata": {
    "collapsed": false
   },
   "outputs": [],
   "source": [
    "%matplotlib inline\n",
    "import matplotlib.pyplot as plt\n",
    "import pandas as pd\n",
    "import seaborn as sns\n",
    "import sqlite3\n",
    "from gensim import corpora, models\n",
    "from gensim.similarities import MatrixSimilarity\n",
    "from gensim.utils import SaveLoad\n",
    "from nltk.corpus import stopwords\n",
    "from nltk.stem import WordNetLemmatizer"
   ]
  },
  {
   "cell_type": "code",
   "execution_count": 4,
   "metadata": {
    "collapsed": true
   },
   "outputs": [],
   "source": [
    "#Information on the format of the database\n",
    "# Emails.csv\n",
    "\n",
    "# Id - unique identifier for internal reference\n",
    "# DocNumber - FOIA document number\n",
    "# MetadataSubject - Email SUBJECT field (from the FOIA metadata)\n",
    "# MetadataTo - Email TO field (from the FOIA metadata)\n",
    "# MetadataFrom - Email FROM field (from the FOIA metadata)\n",
    "# SenderPersonId - PersonId of the email sender (linking to Persons table)\n",
    "# MetadataDateSent - Date the email was sent (from the FOIA metadata)\n",
    "# MetadataDateReleased - Date the email was released (from the FOIA metadata)\n",
    "# MetadataPdfLink - Link to the original PDF document (from the FOIA metadata)\n",
    "# MetadataCaseNumber - Case number (from the FOIA metadata)\n",
    "# MetadataDocumentClass - Document class (from the FOIA metadata)\n",
    "# ExtractedSubject - Email SUBJECT field (extracted from the PDF)\n",
    "# ExtractedTo - Email TO field (extracted from the PDF)\n",
    "# ExtractedFrom - Email FROM field (extracted from the PDF)\n",
    "# ExtractedCc - Email CC field (extracted from the PDF)\n",
    "# ExtractedDateSent - Date the email was sent (extracted from the PDF)\n",
    "# ExtractedCaseNumber - Case number (extracted from the PDF)\n",
    "# ExtractedDocNumber - Doc number (extracted from the PDF)\n",
    "# ExtractedDateReleased - Date the email was released (extracted from the PDF)\n",
    "# ExtractedReleaseInPartOrFull - Whether the email was partially censored (extracted from the PDF)\n",
    "# ExtractedBodyText - Attempt to only pull out the text in the body that the email sender wrote (extracted from the PDF)\n",
    "# RawText - Raw email text (extracted from the PDF)\n",
    "\n",
    "# Persons.csv\n",
    "# Id - unique identifier for internal reference\n",
    "# Name - person's name\n",
    "\n",
    "# Aliases.csv\n",
    "# Id - unique identifier for internal reference\n",
    "# Alias - text in the From/To email fields that refers to the person\n",
    "# PersonId - person that the alias refers to\n",
    "\n",
    "# EmailReceivers.csv\n",
    "# Id - unique identifier for internal reference\n",
    "# EmailId - Id of the email\n",
    "# PersonId - Id of the person that received the email\n"
   ]
  },
  {
   "cell_type": "code",
   "execution_count": 5,
   "metadata": {
    "collapsed": false
   },
   "outputs": [],
   "source": [
    "con = sqlite3.connect('database.sqlite')"
   ]
  },
  {
   "cell_type": "code",
   "execution_count": 6,
   "metadata": {
    "collapsed": false
   },
   "outputs": [],
   "source": [
    "cur = con.cursor()"
   ]
  },
  {
   "cell_type": "code",
   "execution_count": 109,
   "metadata": {
    "collapsed": false
   },
   "outputs": [],
   "source": [
    "emails = pd.read_sql('SELECT * FROM Emails',con)"
   ]
  },
  {
   "cell_type": "code",
   "execution_count": 8,
   "metadata": {
    "collapsed": false,
    "scrolled": true
   },
   "outputs": [
    {
     "data": {
      "text/html": [
       "<div>\n",
       "<table border=\"1\" class=\"dataframe\">\n",
       "  <thead>\n",
       "    <tr style=\"text-align: right;\">\n",
       "      <th></th>\n",
       "      <th>Id</th>\n",
       "      <th>DocNumber</th>\n",
       "      <th>MetadataSubject</th>\n",
       "      <th>MetadataTo</th>\n",
       "      <th>MetadataFrom</th>\n",
       "      <th>SenderPersonId</th>\n",
       "      <th>MetadataDateSent</th>\n",
       "      <th>MetadataDateReleased</th>\n",
       "      <th>MetadataPdfLink</th>\n",
       "      <th>MetadataCaseNumber</th>\n",
       "      <th>...</th>\n",
       "      <th>ExtractedTo</th>\n",
       "      <th>ExtractedFrom</th>\n",
       "      <th>ExtractedCc</th>\n",
       "      <th>ExtractedDateSent</th>\n",
       "      <th>ExtractedCaseNumber</th>\n",
       "      <th>ExtractedDocNumber</th>\n",
       "      <th>ExtractedDateReleased</th>\n",
       "      <th>ExtractedReleaseInPartOrFull</th>\n",
       "      <th>ExtractedBodyText</th>\n",
       "      <th>RawText</th>\n",
       "    </tr>\n",
       "  </thead>\n",
       "  <tbody>\n",
       "    <tr>\n",
       "      <th>0</th>\n",
       "      <td>1</td>\n",
       "      <td>C05739545</td>\n",
       "      <td>WOW</td>\n",
       "      <td>H</td>\n",
       "      <td>Sullivan, Jacob J</td>\n",
       "      <td>87</td>\n",
       "      <td>2012-09-12T04:00:00+00:00</td>\n",
       "      <td>2015-05-22T04:00:00+00:00</td>\n",
       "      <td>DOCUMENTS/HRC_Email_1_296/HRCH2/DOC_0C05739545...</td>\n",
       "      <td>F-2015-04841</td>\n",
       "      <td>...</td>\n",
       "      <td></td>\n",
       "      <td>Sullivan, Jacob J &lt;Sullivan11@state.gov&gt;</td>\n",
       "      <td></td>\n",
       "      <td>Wednesday, September 12, 2012 10:16 AM</td>\n",
       "      <td>F-2015-04841</td>\n",
       "      <td>C05739545</td>\n",
       "      <td>05/13/2015</td>\n",
       "      <td>RELEASE IN FULL</td>\n",
       "      <td></td>\n",
       "      <td>UNCLASSIFIED\\nU.S. Department of State\\nCase N...</td>\n",
       "    </tr>\n",
       "    <tr>\n",
       "      <th>1</th>\n",
       "      <td>2</td>\n",
       "      <td>C05739546</td>\n",
       "      <td>H: LATEST: HOW SYRIA IS AIDING QADDAFI AND MOR...</td>\n",
       "      <td>H</td>\n",
       "      <td></td>\n",
       "      <td></td>\n",
       "      <td>2011-03-03T05:00:00+00:00</td>\n",
       "      <td>2015-05-22T04:00:00+00:00</td>\n",
       "      <td>DOCUMENTS/HRC_Email_1_296/HRCH1/DOC_0C05739546...</td>\n",
       "      <td>F-2015-04841</td>\n",
       "      <td>...</td>\n",
       "      <td></td>\n",
       "      <td></td>\n",
       "      <td></td>\n",
       "      <td></td>\n",
       "      <td>F-2015-04841</td>\n",
       "      <td>C05739546</td>\n",
       "      <td>05/13/2015</td>\n",
       "      <td>RELEASE IN PART</td>\n",
       "      <td>B6\\nThursday, March 3, 2011 9:45 PM\\nH: Latest...</td>\n",
       "      <td>UNCLASSIFIED\\nU.S. Department of State\\nCase N...</td>\n",
       "    </tr>\n",
       "    <tr>\n",
       "      <th>2</th>\n",
       "      <td>3</td>\n",
       "      <td>C05739547</td>\n",
       "      <td>CHRIS STEVENS</td>\n",
       "      <td>;H</td>\n",
       "      <td>Mills, Cheryl D</td>\n",
       "      <td>32</td>\n",
       "      <td>2012-09-12T04:00:00+00:00</td>\n",
       "      <td>2015-05-22T04:00:00+00:00</td>\n",
       "      <td>DOCUMENTS/HRC_Email_1_296/HRCH2/DOC_0C05739547...</td>\n",
       "      <td>F-2015-04841</td>\n",
       "      <td>...</td>\n",
       "      <td>B6</td>\n",
       "      <td>Mills, Cheryl D &lt;MillsCD@state.gov&gt;</td>\n",
       "      <td>Abedin, Huma</td>\n",
       "      <td>Wednesday, September 12, 2012 11:52 AM</td>\n",
       "      <td>F-2015-04841</td>\n",
       "      <td>C05739547</td>\n",
       "      <td>05/14/2015</td>\n",
       "      <td>RELEASE IN PART</td>\n",
       "      <td>Thx</td>\n",
       "      <td>UNCLASSIFIED\\nU.S. Department of State\\nCase N...</td>\n",
       "    </tr>\n",
       "    <tr>\n",
       "      <th>3</th>\n",
       "      <td>4</td>\n",
       "      <td>C05739550</td>\n",
       "      <td>CAIRO CONDEMNATION - FINAL</td>\n",
       "      <td>H</td>\n",
       "      <td>Mills, Cheryl D</td>\n",
       "      <td>32</td>\n",
       "      <td>2012-09-12T04:00:00+00:00</td>\n",
       "      <td>2015-05-22T04:00:00+00:00</td>\n",
       "      <td>DOCUMENTS/HRC_Email_1_296/HRCH2/DOC_0C05739550...</td>\n",
       "      <td>F-2015-04841</td>\n",
       "      <td>...</td>\n",
       "      <td></td>\n",
       "      <td>Mills, Cheryl D &lt;MillsCD@state.gov&gt;</td>\n",
       "      <td>Mitchell, Andrew B</td>\n",
       "      <td>Wednesday, September 12,2012 12:44 PM</td>\n",
       "      <td>F-2015-04841</td>\n",
       "      <td>C05739550</td>\n",
       "      <td>05/13/2015</td>\n",
       "      <td>RELEASE IN PART</td>\n",
       "      <td></td>\n",
       "      <td>UNCLASSIFIED\\nU.S. Department of State\\nCase N...</td>\n",
       "    </tr>\n",
       "    <tr>\n",
       "      <th>4</th>\n",
       "      <td>5</td>\n",
       "      <td>C05739554</td>\n",
       "      <td>H: LATEST: HOW SYRIA IS AIDING QADDAFI AND MOR...</td>\n",
       "      <td>Abedin, Huma</td>\n",
       "      <td>H</td>\n",
       "      <td>80</td>\n",
       "      <td>2011-03-11T05:00:00+00:00</td>\n",
       "      <td>2015-05-22T04:00:00+00:00</td>\n",
       "      <td>DOCUMENTS/HRC_Email_1_296/HRCH1/DOC_0C05739554...</td>\n",
       "      <td>F-2015-04841</td>\n",
       "      <td>...</td>\n",
       "      <td></td>\n",
       "      <td></td>\n",
       "      <td></td>\n",
       "      <td></td>\n",
       "      <td>F-2015-04841</td>\n",
       "      <td>C05739554</td>\n",
       "      <td>05/13/2015</td>\n",
       "      <td>RELEASE IN PART</td>\n",
       "      <td>H &lt;hrod17@clintonemail.com&gt;\\nFriday, March 11,...</td>\n",
       "      <td>B6\\nUNCLASSIFIED\\nU.S. Department of State\\nCa...</td>\n",
       "    </tr>\n",
       "    <tr>\n",
       "      <th>5</th>\n",
       "      <td>6</td>\n",
       "      <td>C05739559</td>\n",
       "      <td>MEET THE RIGHT-WING EXTREMIST BEHIND ANTI-MUSL...</td>\n",
       "      <td>Russorv@state.gov</td>\n",
       "      <td>H</td>\n",
       "      <td>80</td>\n",
       "      <td>2012-09-12T04:00:00+00:00</td>\n",
       "      <td>2015-05-22T04:00:00+00:00</td>\n",
       "      <td>DOCUMENTS/HRC_Email_1_296/HRCH2/DOC_0C05739559...</td>\n",
       "      <td>F-2015-04841</td>\n",
       "      <td>...</td>\n",
       "      <td></td>\n",
       "      <td></td>\n",
       "      <td></td>\n",
       "      <td>Wednesday, September 12, 2012 01:00 PM</td>\n",
       "      <td>F-2015-04841</td>\n",
       "      <td>C05739559</td>\n",
       "      <td>05/13/2015</td>\n",
       "      <td>RELEASE IN PART</td>\n",
       "      <td>Pis print.\\n-•-...-^\\nH &lt; hrod17@clintonernail...</td>\n",
       "      <td>B6\\nUNCLASSIFIED\\nU.S. Department of State\\nCa...</td>\n",
       "    </tr>\n",
       "    <tr>\n",
       "      <th>6</th>\n",
       "      <td>7</td>\n",
       "      <td>C05739560</td>\n",
       "      <td>ANTI-MUSLIM FILM DIRECTOR IN HIDING, FOLLOWING...</td>\n",
       "      <td>H</td>\n",
       "      <td>Mills, Cheryl D</td>\n",
       "      <td>32</td>\n",
       "      <td>2012-09-12T04:00:00+00:00</td>\n",
       "      <td>2015-05-22T04:00:00+00:00</td>\n",
       "      <td>DOCUMENTS/HRC_Email_1_296/HRCH2/DOC_0C05739560...</td>\n",
       "      <td>F-2015-04841</td>\n",
       "      <td>...</td>\n",
       "      <td></td>\n",
       "      <td>Mills, Cheryl D &lt;MillsCD@state.gov&gt;</td>\n",
       "      <td></td>\n",
       "      <td>Wednesday, September 12, 2012 4:00 PM</td>\n",
       "      <td>F-2015-04841</td>\n",
       "      <td>C05739560</td>\n",
       "      <td>05/13/2015</td>\n",
       "      <td>RELEASE IN FULL</td>\n",
       "      <td></td>\n",
       "      <td>UNCLASSIFIED\\nU.S. Department of State\\nCase N...</td>\n",
       "    </tr>\n",
       "    <tr>\n",
       "      <th>7</th>\n",
       "      <td>8</td>\n",
       "      <td>C05739561</td>\n",
       "      <td>H: LATEST: HOW SYRIA IS AIDING QADDAFI AND MOR...</td>\n",
       "      <td>Abedin, Huma</td>\n",
       "      <td>H</td>\n",
       "      <td>80</td>\n",
       "      <td>2011-03-11T05:00:00+00:00</td>\n",
       "      <td>2015-05-22T04:00:00+00:00</td>\n",
       "      <td>DOCUMENTS/HRC_Email_1_296/HRCH1/DOC_0C05739561...</td>\n",
       "      <td>F-2015-04841</td>\n",
       "      <td>...</td>\n",
       "      <td></td>\n",
       "      <td></td>\n",
       "      <td></td>\n",
       "      <td></td>\n",
       "      <td>F-2015-04841</td>\n",
       "      <td>C05739561</td>\n",
       "      <td>05/13/2015</td>\n",
       "      <td>RELEASE IN PART</td>\n",
       "      <td>H &lt;hrod17@clintonemail.corn&gt;\\nFriday, March 11...</td>\n",
       "      <td>B6\\nUNCLASSIFIED\\nU.S. Department of State\\nCa...</td>\n",
       "    </tr>\n",
       "    <tr>\n",
       "      <th>8</th>\n",
       "      <td>9</td>\n",
       "      <td>C05739562</td>\n",
       "      <td>SECRETARY'S REMARKS</td>\n",
       "      <td>H</td>\n",
       "      <td>Sullivan, Jacob J</td>\n",
       "      <td>87</td>\n",
       "      <td>2012-09-12T04:00:00+00:00</td>\n",
       "      <td>2015-05-22T04:00:00+00:00</td>\n",
       "      <td>DOCUMENTS/HRC_Email_1_296/HRCH2/DOC_0C05739562...</td>\n",
       "      <td>F-2015-04841</td>\n",
       "      <td>...</td>\n",
       "      <td></td>\n",
       "      <td>Sullivan, Jacob J &lt;Sullivanli@stategov&gt;</td>\n",
       "      <td></td>\n",
       "      <td>Wednesday, September 12, 2012 6:08 PM</td>\n",
       "      <td>F-2015-04841</td>\n",
       "      <td>C05739562</td>\n",
       "      <td>05/13/2015</td>\n",
       "      <td>RELEASE IN FULL</td>\n",
       "      <td>FYI</td>\n",
       "      <td>UNCLASSIFIED\\nU.S. Department of State\\nCase N...</td>\n",
       "    </tr>\n",
       "    <tr>\n",
       "      <th>9</th>\n",
       "      <td>10</td>\n",
       "      <td>C05739563</td>\n",
       "      <td>MORE ON LIBYA</td>\n",
       "      <td>H</td>\n",
       "      <td></td>\n",
       "      <td></td>\n",
       "      <td>2012-09-12T04:00:00+00:00</td>\n",
       "      <td>2015-05-22T04:00:00+00:00</td>\n",
       "      <td>DOCUMENTS/HRC_Email_1_296/HRCH2/DOC_0C05739563...</td>\n",
       "      <td>F-2015-04841</td>\n",
       "      <td>...</td>\n",
       "      <td></td>\n",
       "      <td></td>\n",
       "      <td></td>\n",
       "      <td></td>\n",
       "      <td>F-2015-04841</td>\n",
       "      <td>C05739563</td>\n",
       "      <td>05/13/2015</td>\n",
       "      <td>RELEASE IN PART</td>\n",
       "      <td>B6\\nWednesday, September 12, 2012 6:16 PM\\nFwd...</td>\n",
       "      <td>UNCLASSIFIED\\nU.S. Department of State\\nCase N...</td>\n",
       "    </tr>\n",
       "  </tbody>\n",
       "</table>\n",
       "<p>10 rows × 22 columns</p>\n",
       "</div>"
      ],
      "text/plain": [
       "   Id  DocNumber                                    MetadataSubject  \\\n",
       "0   1  C05739545                                                WOW   \n",
       "1   2  C05739546  H: LATEST: HOW SYRIA IS AIDING QADDAFI AND MOR...   \n",
       "2   3  C05739547                                      CHRIS STEVENS   \n",
       "3   4  C05739550                         CAIRO CONDEMNATION - FINAL   \n",
       "4   5  C05739554  H: LATEST: HOW SYRIA IS AIDING QADDAFI AND MOR...   \n",
       "5   6  C05739559  MEET THE RIGHT-WING EXTREMIST BEHIND ANTI-MUSL...   \n",
       "6   7  C05739560  ANTI-MUSLIM FILM DIRECTOR IN HIDING, FOLLOWING...   \n",
       "7   8  C05739561  H: LATEST: HOW SYRIA IS AIDING QADDAFI AND MOR...   \n",
       "8   9  C05739562                                SECRETARY'S REMARKS   \n",
       "9  10  C05739563                                      MORE ON LIBYA   \n",
       "\n",
       "          MetadataTo       MetadataFrom SenderPersonId  \\\n",
       "0                  H  Sullivan, Jacob J             87   \n",
       "1                  H                                     \n",
       "2                 ;H    Mills, Cheryl D             32   \n",
       "3                  H    Mills, Cheryl D             32   \n",
       "4       Abedin, Huma                  H             80   \n",
       "5  Russorv@state.gov                  H             80   \n",
       "6                  H    Mills, Cheryl D             32   \n",
       "7       Abedin, Huma                  H             80   \n",
       "8                  H  Sullivan, Jacob J             87   \n",
       "9                  H                                     \n",
       "\n",
       "            MetadataDateSent       MetadataDateReleased  \\\n",
       "0  2012-09-12T04:00:00+00:00  2015-05-22T04:00:00+00:00   \n",
       "1  2011-03-03T05:00:00+00:00  2015-05-22T04:00:00+00:00   \n",
       "2  2012-09-12T04:00:00+00:00  2015-05-22T04:00:00+00:00   \n",
       "3  2012-09-12T04:00:00+00:00  2015-05-22T04:00:00+00:00   \n",
       "4  2011-03-11T05:00:00+00:00  2015-05-22T04:00:00+00:00   \n",
       "5  2012-09-12T04:00:00+00:00  2015-05-22T04:00:00+00:00   \n",
       "6  2012-09-12T04:00:00+00:00  2015-05-22T04:00:00+00:00   \n",
       "7  2011-03-11T05:00:00+00:00  2015-05-22T04:00:00+00:00   \n",
       "8  2012-09-12T04:00:00+00:00  2015-05-22T04:00:00+00:00   \n",
       "9  2012-09-12T04:00:00+00:00  2015-05-22T04:00:00+00:00   \n",
       "\n",
       "                                     MetadataPdfLink MetadataCaseNumber  \\\n",
       "0  DOCUMENTS/HRC_Email_1_296/HRCH2/DOC_0C05739545...       F-2015-04841   \n",
       "1  DOCUMENTS/HRC_Email_1_296/HRCH1/DOC_0C05739546...       F-2015-04841   \n",
       "2  DOCUMENTS/HRC_Email_1_296/HRCH2/DOC_0C05739547...       F-2015-04841   \n",
       "3  DOCUMENTS/HRC_Email_1_296/HRCH2/DOC_0C05739550...       F-2015-04841   \n",
       "4  DOCUMENTS/HRC_Email_1_296/HRCH1/DOC_0C05739554...       F-2015-04841   \n",
       "5  DOCUMENTS/HRC_Email_1_296/HRCH2/DOC_0C05739559...       F-2015-04841   \n",
       "6  DOCUMENTS/HRC_Email_1_296/HRCH2/DOC_0C05739560...       F-2015-04841   \n",
       "7  DOCUMENTS/HRC_Email_1_296/HRCH1/DOC_0C05739561...       F-2015-04841   \n",
       "8  DOCUMENTS/HRC_Email_1_296/HRCH2/DOC_0C05739562...       F-2015-04841   \n",
       "9  DOCUMENTS/HRC_Email_1_296/HRCH2/DOC_0C05739563...       F-2015-04841   \n",
       "\n",
       "                         ...                         ExtractedTo  \\\n",
       "0                        ...                                       \n",
       "1                        ...                                       \n",
       "2                        ...                                  B6   \n",
       "3                        ...                                       \n",
       "4                        ...                                       \n",
       "5                        ...                                       \n",
       "6                        ...                                       \n",
       "7                        ...                                       \n",
       "8                        ...                                       \n",
       "9                        ...                                       \n",
       "\n",
       "                              ExtractedFrom         ExtractedCc  \\\n",
       "0  Sullivan, Jacob J <Sullivan11@state.gov>                       \n",
       "1                                                                 \n",
       "2       Mills, Cheryl D <MillsCD@state.gov>        Abedin, Huma   \n",
       "3       Mills, Cheryl D <MillsCD@state.gov>  Mitchell, Andrew B   \n",
       "4                                                                 \n",
       "5                                                                 \n",
       "6       Mills, Cheryl D <MillsCD@state.gov>                       \n",
       "7                                                                 \n",
       "8   Sullivan, Jacob J <Sullivanli@stategov>                       \n",
       "9                                                                 \n",
       "\n",
       "                        ExtractedDateSent ExtractedCaseNumber  \\\n",
       "0  Wednesday, September 12, 2012 10:16 AM        F-2015-04841   \n",
       "1                                                F-2015-04841   \n",
       "2  Wednesday, September 12, 2012 11:52 AM        F-2015-04841   \n",
       "3   Wednesday, September 12,2012 12:44 PM        F-2015-04841   \n",
       "4                                                F-2015-04841   \n",
       "5  Wednesday, September 12, 2012 01:00 PM        F-2015-04841   \n",
       "6   Wednesday, September 12, 2012 4:00 PM        F-2015-04841   \n",
       "7                                                F-2015-04841   \n",
       "8   Wednesday, September 12, 2012 6:08 PM        F-2015-04841   \n",
       "9                                                F-2015-04841   \n",
       "\n",
       "  ExtractedDocNumber ExtractedDateReleased ExtractedReleaseInPartOrFull  \\\n",
       "0          C05739545            05/13/2015              RELEASE IN FULL   \n",
       "1          C05739546            05/13/2015              RELEASE IN PART   \n",
       "2          C05739547            05/14/2015              RELEASE IN PART   \n",
       "3          C05739550            05/13/2015              RELEASE IN PART   \n",
       "4          C05739554            05/13/2015              RELEASE IN PART   \n",
       "5          C05739559            05/13/2015              RELEASE IN PART   \n",
       "6          C05739560            05/13/2015              RELEASE IN FULL   \n",
       "7          C05739561            05/13/2015              RELEASE IN PART   \n",
       "8          C05739562            05/13/2015              RELEASE IN FULL   \n",
       "9          C05739563            05/13/2015              RELEASE IN PART   \n",
       "\n",
       "                                   ExtractedBodyText  \\\n",
       "0                                                      \n",
       "1  B6\\nThursday, March 3, 2011 9:45 PM\\nH: Latest...   \n",
       "2                                                Thx   \n",
       "3                                                      \n",
       "4  H <hrod17@clintonemail.com>\\nFriday, March 11,...   \n",
       "5  Pis print.\\n-•-...-^\\nH < hrod17@clintonernail...   \n",
       "6                                                      \n",
       "7  H <hrod17@clintonemail.corn>\\nFriday, March 11...   \n",
       "8                                                FYI   \n",
       "9  B6\\nWednesday, September 12, 2012 6:16 PM\\nFwd...   \n",
       "\n",
       "                                             RawText  \n",
       "0  UNCLASSIFIED\\nU.S. Department of State\\nCase N...  \n",
       "1  UNCLASSIFIED\\nU.S. Department of State\\nCase N...  \n",
       "2  UNCLASSIFIED\\nU.S. Department of State\\nCase N...  \n",
       "3  UNCLASSIFIED\\nU.S. Department of State\\nCase N...  \n",
       "4  B6\\nUNCLASSIFIED\\nU.S. Department of State\\nCa...  \n",
       "5  B6\\nUNCLASSIFIED\\nU.S. Department of State\\nCa...  \n",
       "6  UNCLASSIFIED\\nU.S. Department of State\\nCase N...  \n",
       "7  B6\\nUNCLASSIFIED\\nU.S. Department of State\\nCa...  \n",
       "8  UNCLASSIFIED\\nU.S. Department of State\\nCase N...  \n",
       "9  UNCLASSIFIED\\nU.S. Department of State\\nCase N...  \n",
       "\n",
       "[10 rows x 22 columns]"
      ]
     },
     "execution_count": 8,
     "metadata": {},
     "output_type": "execute_result"
    }
   ],
   "source": [
    "emails.head(10)"
   ]
  },
  {
   "cell_type": "markdown",
   "metadata": {},
   "source": [
    "### Interestingly it looks like Clinton doesn't print her own documents, let's see how often 'print' shows up in emails and what they contain"
   ]
  },
  {
   "cell_type": "code",
   "execution_count": 9,
   "metadata": {
    "collapsed": false,
    "scrolled": true
   },
   "outputs": [
    {
     "data": {
      "text/plain": [
       "90"
      ]
     },
     "execution_count": 9,
     "metadata": {},
     "output_type": "execute_result"
    }
   ],
   "source": [
    "emails.ExtractedBodyText[emails.ExtractedBodyText.str.contains('Pls print')].count()"
   ]
  },
  {
   "cell_type": "markdown",
   "metadata": {},
   "source": [
    "### What % say 'Pls print' in them?"
   ]
  },
  {
   "cell_type": "code",
   "execution_count": 11,
   "metadata": {
    "collapsed": false
   },
   "outputs": [
    {
     "data": {
      "text/plain": [
       "0.011327879169288861"
      ]
     },
     "execution_count": 11,
     "metadata": {},
     "output_type": "execute_result"
    }
   ],
   "source": [
    "#What % say 'Pls print' in them?\n",
    "printemailscount = int(emails.ExtractedBodyText[emails.ExtractedBodyText.str.contains('Pls print')].count())\n",
    "totalemailcount = int(emails.ExtractedBodyText.count())\n",
    "printemailscount/(totalemailcount*1.0)"
   ]
  },
  {
   "cell_type": "markdown",
   "metadata": {},
   "source": [
    "### Over 1%! Given that 1% of the data released is emails asking to print something I'm no longer quite as hopeful about what we'll find"
   ]
  },
  {
   "cell_type": "code",
   "execution_count": 127,
   "metadata": {
    "collapsed": false
   },
   "outputs": [
    {
     "data": {
      "text/plain": [
       "25"
      ]
     },
     "execution_count": 127,
     "metadata": {},
     "output_type": "execute_result"
    }
   ],
   "source": [
    "#How about emails about Benghazi\n",
    "emails.ExtractedBodyText[emails.ExtractedBodyText.str.contains('Benghazi')].count()"
   ]
  },
  {
   "cell_type": "code",
   "execution_count": 12,
   "metadata": {
    "collapsed": false
   },
   "outputs": [
    {
     "data": {
      "text/plain": [
       "H                          0.239899\n",
       "Abedin, Huma               0.173694\n",
       "Mills, Cheryl D            0.144242\n",
       "Sullivan, Jacob J          0.094399\n",
       "sbwhoeop                   0.039773\n",
       "Jiloty, Lauren C           0.038011\n",
       "                           0.019761\n",
       "Valmoro, Lona J            0.018376\n",
       "Slaughter, Anne-Marie      0.015985\n",
       "Verma, Richard R           0.014475\n",
       "PIR                        0.013593\n",
       "McHale, Judith A           0.009188\n",
       "hrod17@clintonemail.com    0.008936\n",
       "Muscatine, Lissa           0.008811\n",
       "MillsCD@state.gov          0.008055\n",
       "Verveer, Melanne S         0.007426\n",
       "AbedinH@state.gov          0.006167\n",
       "Mills, Cheryl              0.005790\n",
       "cheryl.mills               0.005538\n",
       "Sid                        0.005412\n",
       "Name: MetadataFrom, dtype: float64"
      ]
     },
     "execution_count": 12,
     "metadata": {},
     "output_type": "execute_result"
    }
   ],
   "source": [
    "#List the top 20 senders to Clinton by % of emails\n",
    "emails.MetadataFrom.value_counts(normalize=True).head(20)"
   ]
  },
  {
   "cell_type": "code",
   "execution_count": 47,
   "metadata": {
    "collapsed": true
   },
   "outputs": [],
   "source": [
    "#It looks like there are some aliases in there, let's see if we can fix that\n",
    "aliases = pd.read_sql('SELECT * FROM Aliases', con)"
   ]
  },
  {
   "cell_type": "code",
   "execution_count": 48,
   "metadata": {
    "collapsed": false
   },
   "outputs": [
    {
     "data": {
      "text/html": [
       "<div>\n",
       "<table border=\"1\" class=\"dataframe\">\n",
       "  <thead>\n",
       "    <tr style=\"text-align: right;\">\n",
       "      <th></th>\n",
       "      <th>Id</th>\n",
       "      <th>Alias</th>\n",
       "      <th>PersonId</th>\n",
       "    </tr>\n",
       "  </thead>\n",
       "  <tbody>\n",
       "    <tr>\n",
       "      <th>0</th>\n",
       "      <td>1</td>\n",
       "      <td>111th congress</td>\n",
       "      <td>1</td>\n",
       "    </tr>\n",
       "    <tr>\n",
       "      <th>1</th>\n",
       "      <td>2</td>\n",
       "      <td>agna usemb kabul afghanistan</td>\n",
       "      <td>2</td>\n",
       "    </tr>\n",
       "    <tr>\n",
       "      <th>2</th>\n",
       "      <td>3</td>\n",
       "      <td>ap</td>\n",
       "      <td>3</td>\n",
       "    </tr>\n",
       "    <tr>\n",
       "      <th>3</th>\n",
       "      <td>4</td>\n",
       "      <td>asuncion</td>\n",
       "      <td>4</td>\n",
       "    </tr>\n",
       "    <tr>\n",
       "      <th>4</th>\n",
       "      <td>5</td>\n",
       "      <td>alec</td>\n",
       "      <td>5</td>\n",
       "    </tr>\n",
       "  </tbody>\n",
       "</table>\n",
       "</div>"
      ],
      "text/plain": [
       "   Id                         Alias  PersonId\n",
       "0   1                111th congress         1\n",
       "1   2  agna usemb kabul afghanistan         2\n",
       "2   3                            ap         3\n",
       "3   4                      asuncion         4\n",
       "4   5                          alec         5"
      ]
     },
     "execution_count": 48,
     "metadata": {},
     "output_type": "execute_result"
    }
   ],
   "source": [
    "aliases.head()"
   ]
  },
  {
   "cell_type": "code",
   "execution_count": 37,
   "metadata": {
    "collapsed": true
   },
   "outputs": [],
   "source": [
    "persons = pd.read_sql('SELECT * FROM Persons', con)"
   ]
  },
  {
   "cell_type": "code",
   "execution_count": 38,
   "metadata": {
    "collapsed": false
   },
   "outputs": [
    {
     "data": {
      "text/html": [
       "<div>\n",
       "<table border=\"1\" class=\"dataframe\">\n",
       "  <thead>\n",
       "    <tr style=\"text-align: right;\">\n",
       "      <th></th>\n",
       "      <th>Id</th>\n",
       "      <th>Name</th>\n",
       "    </tr>\n",
       "  </thead>\n",
       "  <tbody>\n",
       "    <tr>\n",
       "      <th>0</th>\n",
       "      <td>1</td>\n",
       "      <td>111th Congress</td>\n",
       "    </tr>\n",
       "    <tr>\n",
       "      <th>1</th>\n",
       "      <td>2</td>\n",
       "      <td>AGNA USEMB Kabul Afghanistan</td>\n",
       "    </tr>\n",
       "    <tr>\n",
       "      <th>2</th>\n",
       "      <td>3</td>\n",
       "      <td>AP</td>\n",
       "    </tr>\n",
       "    <tr>\n",
       "      <th>3</th>\n",
       "      <td>4</td>\n",
       "      <td>ASUNCION</td>\n",
       "    </tr>\n",
       "    <tr>\n",
       "      <th>4</th>\n",
       "      <td>5</td>\n",
       "      <td>Alec</td>\n",
       "    </tr>\n",
       "  </tbody>\n",
       "</table>\n",
       "</div>"
      ],
      "text/plain": [
       "   Id                          Name\n",
       "0   1                111th Congress\n",
       "1   2  AGNA USEMB Kabul Afghanistan\n",
       "2   3                            AP\n",
       "3   4                      ASUNCION\n",
       "4   5                          Alec"
      ]
     },
     "execution_count": 38,
     "metadata": {},
     "output_type": "execute_result"
    }
   ],
   "source": [
    "persons.head()"
   ]
  },
  {
   "cell_type": "code",
   "execution_count": 102,
   "metadata": {
    "collapsed": true
   },
   "outputs": [],
   "source": [
    "#Create a dictionary to convert ids to names for easy lookup \n",
    "persondict={}\n",
    "for index, id in enumerate(persons.Id):\n",
    "    persondict[id] = persons.Name[index]"
   ]
  },
  {
   "cell_type": "code",
   "execution_count": 103,
   "metadata": {
    "collapsed": false
   },
   "outputs": [],
   "source": [
    "#Create a dictionary to convert aliases to names for easy lookup \n",
    "aliasdict={}\n",
    "for index, alias in enumerate(aliases.Alias):\n",
    "    aliasdict[alias] = persondict[aliases.PersonId[index]]"
   ]
  },
  {
   "cell_type": "code",
   "execution_count": 110,
   "metadata": {
    "collapsed": true
   },
   "outputs": [],
   "source": [
    "#Convert the columns to strings\n",
    "emails.MetadataFrom = emails.MetadataFrom.astype(str)\n",
    "emails.MetadataTo = emails.MetadataTo.astype(str)"
   ]
  },
  {
   "cell_type": "code",
   "execution_count": 111,
   "metadata": {
    "collapsed": false
   },
   "outputs": [],
   "source": [
    "#Replace the aliases with the person ids\n",
    "indexes=emails.MetadataTo[emails.MetadataTo != u''].index\n",
    "for index in indexes:\n",
    "    if emails.MetadataFrom[index].lower() in aliasdict:\n",
    "        emails.loc[index,'MetadataFrom'] = aliasdict[emails.MetadataFrom[index].lower()]\n",
    "    if emails.MetadataTo[index].lower() in aliasdict:\n",
    "        emails.loc[index,'MetadataTo'] = aliasdict[emails.MetadataTo[index].lower()]"
   ]
  },
  {
   "cell_type": "code",
   "execution_count": 115,
   "metadata": {
    "collapsed": false
   },
   "outputs": [
    {
     "data": {
      "text/plain": [
       "Abedin, Huma             0.229962\n",
       "Mills, Cheryl D          0.190968\n",
       "Sullivan, Jacob J        0.124979\n",
       "Sidney Blumenthal        0.058324\n",
       "Jiloty, Lauren C         0.050325\n",
       "                         0.026162\n",
       "Valmoro, Lona J          0.024329\n",
       "Slaughter, Anne-Marie    0.021163\n",
       "Philippe Reines          0.019330\n",
       "Verma, Richard R         0.019163\n",
       "Cheryl Mills             0.018830\n",
       "McHale, Judith A         0.012165\n",
       "Muscatine, Lissa         0.011665\n",
       "Jake Sullivan            0.010998\n",
       "Verveer, Melanne S       0.009832\n",
       "Huma Abedin              0.008499\n",
       "Mills, Cheryl            0.007665\n",
       "Sullivan, Jake           0.006166\n",
       "Talbott, Strobe          0.005999\n",
       "Reines, Philippe I       0.005666\n",
       "Name: MetadataFrom, dtype: float64"
      ]
     },
     "execution_count": 115,
     "metadata": {},
     "output_type": "execute_result"
    }
   ],
   "source": [
    "#Let's try again to list the top 20 senders to Clinton by % of emails with the aliases repaired\n",
    "emails.MetadataFrom[emails.MetadataFrom != 'Hillary Clinton'].value_counts(normalize=True).head(20)"
   ]
  },
  {
   "cell_type": "code",
   "execution_count": 117,
   "metadata": {
    "collapsed": false
   },
   "outputs": [
    {
     "data": {
      "text/plain": [
       "Cheryl Mills            0.143317\n",
       "Huma Abedin             0.143317\n",
       "Jake Sullivan           0.128422\n",
       "                        0.102657\n",
       "Lauren Jiloty           0.094605\n",
       "Lona Valmoro            0.058776\n",
       "Abedin, Huma            0.030998\n",
       "Philippe Reines         0.028583\n",
       "Sidney Blumenthal       0.020129\n",
       "Monica Hanley           0.013688\n",
       "Mills, Cheryl D         0.012882\n",
       "Richard Verma           0.012077\n",
       "Anne-Marie Slaughter    0.011675\n",
       "Lissa Muscatine         0.010870\n",
       "Robert Russo            0.010467\n",
       "Sullivan, Jacob J       0.009662\n",
       "Melanne Verveer         0.008052\n",
       "Flores, Oscar           0.007246\n",
       "Kris Balderston         0.006441\n",
       "Jacob Lew               0.005233\n",
       "Name: MetadataTo, dtype: float64"
      ]
     },
     "execution_count": 117,
     "metadata": {},
     "output_type": "execute_result"
    }
   ],
   "source": [
    "#List the top 20 recipients of Clinton's emails by % now that we've fixed things\n",
    "emails.MetadataTo[emails.MetadataTo != 'Hillary Clinton'].value_counts(normalize=True).head(20)"
   ]
  },
  {
   "cell_type": "code",
   "execution_count": null,
   "metadata": {
    "collapsed": true
   },
   "outputs": [],
   "source": [
    "#Lets create a set of all the email bodies for unsupervised topic extraction using LDA\n",
    "emailtext = emails.Extr"
   ]
  }
 ],
 "metadata": {
  "kernelspec": {
   "display_name": "Python 2",
   "language": "python",
   "name": "python2"
  },
  "language_info": {
   "codemirror_mode": {
    "name": "ipython",
    "version": 2
   },
   "file_extension": ".py",
   "mimetype": "text/x-python",
   "name": "python",
   "nbconvert_exporter": "python",
   "pygments_lexer": "ipython2",
   "version": "2.7.11"
  }
 },
 "nbformat": 4,
 "nbformat_minor": 0
}
